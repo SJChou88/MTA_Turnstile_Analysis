{
 "cells": [
  {
   "cell_type": "code",
   "execution_count": null,
   "metadata": {
    "collapsed": false,
    "scrolled": false
   },
   "outputs": [],
   "source": [
    "from __future__ import print_function, division\n",
    "\n",
    "import pandas as pd\n",
    "import numpy as np\n",
    "import matplotlib.pyplot as plt\n",
    "\n",
    "%matplotlib inline\n",
    "\n",
    "import datetime\n",
    "\n",
    "exMwd = pd.read_csv('exits_morning_weekday.csv')\n",
    "enEwd = pd.read_csv('entries_evening_weekday.csv')\n",
    "top_wd = pd.read_csv('bus_day_top.csv')\n",
    "\n",
    "exMwd.head(25)\n",
    "enEwd.head(25)\n",
    "top_wd.head()"
   ]
  },
  {
   "cell_type": "code",
   "execution_count": null,
   "metadata": {
    "collapsed": false
   },
   "outputs": [],
   "source": [
    "del exMwd['Unnamed: 0']\n",
    "del exMwd['IS_WEEKDAY']\n",
    "del enEwd['Unnamed: 0']\n",
    "del enEwd['IS_WEEKDAY']\n",
    "exMwd.head(40)\n",
    "enEwd.head(40)\n",
    "del top_wd['Unnamed: 0']\n",
    "del top_wd['TOD_x']\n",
    "del top_wd['IS_WEEKDAY_x']\n",
    "del top_wd['TOD_y']\n",
    "del top_wd['IS_WEEKDAY_y']\n",
    "top_wd.head(150)"
   ]
  },
  {
   "cell_type": "code",
   "execution_count": null,
   "metadata": {
    "collapsed": false
   },
   "outputs": [],
   "source": [
    "top_wd.drop(top_wd.index[[1,3,5,8,10,18,23,26,29]], inplace=True)\n",
    "top_wd.drop(top_wd.index[[9,11,14,15,16,19,20,27]], inplace=True)\n",
    "del top_wd['AVERAGE_DAILY']\n",
    "top_wd.head(40)"
   ]
  },
  {
   "cell_type": "code",
   "execution_count": null,
   "metadata": {
    "collapsed": false
   },
   "outputs": [],
   "source": [
    "top_wd_s = top_wd.groupby(['STATION']).mean()\n",
    "top_wd_s = top_wd_s[['DELTA_EXITS','DELTA_ENTRIES']]\n",
    "\n",
    "top_wd_s.head(100)"
   ]
  },
  {
   "cell_type": "code",
   "execution_count": null,
   "metadata": {
    "collapsed": false
   },
   "outputs": [],
   "source": [
    "best_wd = top_wd_s.query('STATION == \"14 ST-UNION SQ\" | STATION == \"47-50 ST-ROCK\" | STATION == \"42 ST-GRD CNTRL\"')\n",
    "best_wd.head()"
   ]
  },
  {
   "cell_type": "code",
   "execution_count": null,
   "metadata": {
    "collapsed": false
   },
   "outputs": [],
   "source": [
    "best_wd = best_wd.sort_values(by=('DELTA_EXITS'), ascending=True)\n",
    "\n",
    "fig = plt.figure(figsize=(13,8))\n",
    "ax = plt.axes()\n",
    "best_wd.plot(\n",
    "    kind='barh',\n",
    "    ax=ax,\n",
    ");\n",
    "ax.legend([\"mean weekday morning exits\", \"mean weekday evening entries\"]);\n",
    "\n",
    "fig.savefig('best_overall.pdf')"
   ]
  },
  {
   "cell_type": "code",
   "execution_count": null,
   "metadata": {
    "collapsed": false
   },
   "outputs": [],
   "source": [
    "fig = plt.figure(figsize=(10,7.5))\n",
    "top_wd.plot(\n",
    "    kind='bar',\n",
    "    stacked=True\n",
    ");"
   ]
  },
  {
   "cell_type": "code",
   "execution_count": null,
   "metadata": {
    "collapsed": false
   },
   "outputs": [],
   "source": [
    "top_wd_s = top_wd_s.sort_values(by=('DELTA_ENTRIES'), ascending=True)\n",
    "\n",
    "fig = plt.figure(figsize=(12,9))\n",
    "ax = plt.axes()\n",
    "top_wd_s.plot(\n",
    "    kind='barh',\n",
    "    ax=ax,\n",
    ");\n",
    "ax.legend([\"mean weekday morning exits\", \"mean weekday evening entries\"]);\n",
    "\n",
    "# fig.savefig('top_weekday.pdf')"
   ]
  },
  {
   "cell_type": "code",
   "execution_count": null,
   "metadata": {
    "collapsed": false
   },
   "outputs": [],
   "source": [
    "fig = plt.figure(figsize=(10,7.5))\n",
    "top_wd.plot(\n",
    "    kind='barh',\n",
    "    xlim=(0, 200000),\n",
    "    stacked=True\n",
    ");"
   ]
  },
  {
   "cell_type": "code",
   "execution_count": null,
   "metadata": {
    "collapsed": false
   },
   "outputs": [],
   "source": [
    "march = pd.read_csv('clean_march.csv')\n",
    "march.shape"
   ]
  },
  {
   "cell_type": "code",
   "execution_count": null,
   "metadata": {
    "collapsed": false
   },
   "outputs": [],
   "source": [
    "del march['Unnamed: 0']\n",
    "del march['C/A']\n",
    "del march['SCP']\n",
    "del march['DIVISION']\n",
    "del march['TOD']\n",
    "del march['NEXT_EXITS']\n",
    "del march['NEXT_ENTRIES']\n",
    "del march['IS_WEEKDAY']\n",
    "march = march[['STATION','DELTA_ENTRIES','DELTA_EXITS','DOTW','HOUR']]\n",
    "march.head(100)"
   ]
  },
  {
   "cell_type": "code",
   "execution_count": null,
   "metadata": {
    "collapsed": false
   },
   "outputs": [],
   "source": [
    "stations = march['STATION'].unique()"
   ]
  },
  {
   "cell_type": "code",
   "execution_count": null,
   "metadata": {
    "collapsed": false
   },
   "outputs": [],
   "source": [
    "march_14 = march[march.STATION == '14 ST-UNION SQ']\n",
    "march_14 = march_14.groupby(['DOTW','HOUR']).mean()\n",
    "march_14 = march_14[['DELTA_EXITS','DELTA_ENTRIES']]\n",
    "\n",
    "march_14.head(100)"
   ]
  },
  {
   "cell_type": "code",
   "execution_count": null,
   "metadata": {
    "collapsed": false
   },
   "outputs": [],
   "source": [
    "fig = plt.figure(figsize=(10,7.5))\n",
    "ax = plt.axes()\n",
    "march_14.plot(\n",
    "    kind='line',\n",
    "    ax=ax\n",
    ");\n",
    "ax.legend([\"mean exits\", \"mean entries\"]);\n",
    "ax.set_xlabel(\"day of the week, hour\")\n",
    "\n",
    "plt.tight_layout()\n",
    "# fig.savefig('march_unionsq.pdf')"
   ]
  },
  {
   "cell_type": "code",
   "execution_count": null,
   "metadata": {
    "collapsed": false
   },
   "outputs": [],
   "source": [
    "march_8 = march[march.STATION == '8 AVE']\n",
    "march_8 = march_8.groupby(['DOTW','HOUR']).mean()\n",
    "march_8 = march_8[['DELTA_EXITS','DELTA_ENTRIES']]\n",
    "\n",
    "march_8.head(100)"
   ]
  },
  {
   "cell_type": "code",
   "execution_count": null,
   "metadata": {
    "collapsed": false
   },
   "outputs": [],
   "source": [
    "fig = plt.figure(figsize=(10,7.5))\n",
    "ax = plt.axes()\n",
    "march_8.plot(\n",
    "    kind='line',\n",
    "    ax=ax\n",
    ");\n",
    "ax.legend([\"mean exits\", \"mean entries\"]);\n",
    "ax.set_xlabel(\"day of the week, hour\")\n",
    "\n",
    "plt.tight_layout()\n",
    "# fig.savefig('march_8ave.pdf')"
   ]
  },
  {
   "cell_type": "code",
   "execution_count": null,
   "metadata": {
    "collapsed": true
   },
   "outputs": [],
   "source": []
  }
 ],
 "metadata": {
  "kernelspec": {
   "display_name": "Python 3",
   "language": "python",
   "name": "python3"
  },
  "language_info": {
   "codemirror_mode": {
    "name": "ipython",
    "version": 3
   },
   "file_extension": ".py",
   "mimetype": "text/x-python",
   "name": "python",
   "nbconvert_exporter": "python",
   "pygments_lexer": "ipython3",
   "version": "3.6.0"
  }
 },
 "nbformat": 4,
 "nbformat_minor": 2
}
